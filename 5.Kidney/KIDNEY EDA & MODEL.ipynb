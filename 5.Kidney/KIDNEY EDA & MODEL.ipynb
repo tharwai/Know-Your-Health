{
 "cells": [
  {
   "cell_type": "markdown",
   "id": "f8c5075e",
   "metadata": {},
   "source": [
    "<h1><center>KIDNEY</center></h1>"
   ]
  },
  {
   "cell_type": "code",
   "execution_count": 1,
   "id": "de76f317",
   "metadata": {},
   "outputs": [],
   "source": [
    "import pandas as pd\n",
    "import numpy as np\n",
    "import matplotlib.pyplot as plt\n",
    "import seaborn as sns\n",
    "%matplotlib inline\n",
    "from sklearn.preprocessing import LabelEncoder\n",
    "import warnings \n",
    "warnings.filterwarnings('ignore')\n",
    "from sklearn.metrics import accuracy_score\n",
    "from sklearn.model_selection import train_test_split\n",
    "from sklearn.metrics import classification_report, confusion_matrix\n",
    "from sklearn import linear_model\n",
    "from sklearn.linear_model import LogisticRegression\n",
    "from sklearn.svm import SVC, LinearSVC\n",
    "from sklearn.ensemble import RandomForestClassifier\n",
    "from sklearn.naive_bayes import GaussianNB\n",
    "from sklearn.tree import DecisionTreeClassifier\n",
    "from sklearn.model_selection import RandomizedSearchCV "
   ]
  },
  {
   "cell_type": "code",
   "execution_count": 2,
   "id": "206af163",
   "metadata": {},
   "outputs": [],
   "source": [
    "kidney_df=pd.read_csv(\"kidney.csv\")"
   ]
  },
  {
   "cell_type": "code",
   "execution_count": 3,
   "id": "92872519",
   "metadata": {},
   "outputs": [
    {
     "data": {
      "text/html": [
       "<div>\n",
       "<style scoped>\n",
       "    .dataframe tbody tr th:only-of-type {\n",
       "        vertical-align: middle;\n",
       "    }\n",
       "\n",
       "    .dataframe tbody tr th {\n",
       "        vertical-align: top;\n",
       "    }\n",
       "\n",
       "    .dataframe thead th {\n",
       "        text-align: right;\n",
       "    }\n",
       "</style>\n",
       "<table border=\"1\" class=\"dataframe\">\n",
       "  <thead>\n",
       "    <tr style=\"text-align: right;\">\n",
       "      <th></th>\n",
       "      <th>id</th>\n",
       "      <th>age</th>\n",
       "      <th>bp</th>\n",
       "      <th>sg</th>\n",
       "      <th>al</th>\n",
       "      <th>su</th>\n",
       "      <th>rbc</th>\n",
       "      <th>pc</th>\n",
       "      <th>pcc</th>\n",
       "      <th>ba</th>\n",
       "      <th>...</th>\n",
       "      <th>pcv</th>\n",
       "      <th>wc</th>\n",
       "      <th>rc</th>\n",
       "      <th>htn</th>\n",
       "      <th>dm</th>\n",
       "      <th>cad</th>\n",
       "      <th>appet</th>\n",
       "      <th>pe</th>\n",
       "      <th>ane</th>\n",
       "      <th>classification</th>\n",
       "    </tr>\n",
       "  </thead>\n",
       "  <tbody>\n",
       "    <tr>\n",
       "      <th>0</th>\n",
       "      <td>0</td>\n",
       "      <td>48.0</td>\n",
       "      <td>80.0</td>\n",
       "      <td>1.020</td>\n",
       "      <td>1.0</td>\n",
       "      <td>0.0</td>\n",
       "      <td>NaN</td>\n",
       "      <td>normal</td>\n",
       "      <td>notpresent</td>\n",
       "      <td>notpresent</td>\n",
       "      <td>...</td>\n",
       "      <td>44</td>\n",
       "      <td>7800</td>\n",
       "      <td>5.2</td>\n",
       "      <td>yes</td>\n",
       "      <td>yes</td>\n",
       "      <td>no</td>\n",
       "      <td>good</td>\n",
       "      <td>no</td>\n",
       "      <td>no</td>\n",
       "      <td>ckd</td>\n",
       "    </tr>\n",
       "    <tr>\n",
       "      <th>1</th>\n",
       "      <td>1</td>\n",
       "      <td>7.0</td>\n",
       "      <td>50.0</td>\n",
       "      <td>1.020</td>\n",
       "      <td>4.0</td>\n",
       "      <td>0.0</td>\n",
       "      <td>NaN</td>\n",
       "      <td>normal</td>\n",
       "      <td>notpresent</td>\n",
       "      <td>notpresent</td>\n",
       "      <td>...</td>\n",
       "      <td>38</td>\n",
       "      <td>6000</td>\n",
       "      <td>NaN</td>\n",
       "      <td>no</td>\n",
       "      <td>no</td>\n",
       "      <td>no</td>\n",
       "      <td>good</td>\n",
       "      <td>no</td>\n",
       "      <td>no</td>\n",
       "      <td>ckd</td>\n",
       "    </tr>\n",
       "    <tr>\n",
       "      <th>2</th>\n",
       "      <td>2</td>\n",
       "      <td>62.0</td>\n",
       "      <td>80.0</td>\n",
       "      <td>1.010</td>\n",
       "      <td>2.0</td>\n",
       "      <td>3.0</td>\n",
       "      <td>normal</td>\n",
       "      <td>normal</td>\n",
       "      <td>notpresent</td>\n",
       "      <td>notpresent</td>\n",
       "      <td>...</td>\n",
       "      <td>31</td>\n",
       "      <td>7500</td>\n",
       "      <td>NaN</td>\n",
       "      <td>no</td>\n",
       "      <td>yes</td>\n",
       "      <td>no</td>\n",
       "      <td>poor</td>\n",
       "      <td>no</td>\n",
       "      <td>yes</td>\n",
       "      <td>ckd</td>\n",
       "    </tr>\n",
       "    <tr>\n",
       "      <th>3</th>\n",
       "      <td>3</td>\n",
       "      <td>48.0</td>\n",
       "      <td>70.0</td>\n",
       "      <td>1.005</td>\n",
       "      <td>4.0</td>\n",
       "      <td>0.0</td>\n",
       "      <td>normal</td>\n",
       "      <td>abnormal</td>\n",
       "      <td>present</td>\n",
       "      <td>notpresent</td>\n",
       "      <td>...</td>\n",
       "      <td>32</td>\n",
       "      <td>6700</td>\n",
       "      <td>3.9</td>\n",
       "      <td>yes</td>\n",
       "      <td>no</td>\n",
       "      <td>no</td>\n",
       "      <td>poor</td>\n",
       "      <td>yes</td>\n",
       "      <td>yes</td>\n",
       "      <td>ckd</td>\n",
       "    </tr>\n",
       "    <tr>\n",
       "      <th>4</th>\n",
       "      <td>4</td>\n",
       "      <td>51.0</td>\n",
       "      <td>80.0</td>\n",
       "      <td>1.010</td>\n",
       "      <td>2.0</td>\n",
       "      <td>0.0</td>\n",
       "      <td>normal</td>\n",
       "      <td>normal</td>\n",
       "      <td>notpresent</td>\n",
       "      <td>notpresent</td>\n",
       "      <td>...</td>\n",
       "      <td>35</td>\n",
       "      <td>7300</td>\n",
       "      <td>4.6</td>\n",
       "      <td>no</td>\n",
       "      <td>no</td>\n",
       "      <td>no</td>\n",
       "      <td>good</td>\n",
       "      <td>no</td>\n",
       "      <td>no</td>\n",
       "      <td>ckd</td>\n",
       "    </tr>\n",
       "  </tbody>\n",
       "</table>\n",
       "<p>5 rows × 26 columns</p>\n",
       "</div>"
      ],
      "text/plain": [
       "   id   age    bp     sg   al   su     rbc        pc         pcc          ba  \\\n",
       "0   0  48.0  80.0  1.020  1.0  0.0     NaN    normal  notpresent  notpresent   \n",
       "1   1   7.0  50.0  1.020  4.0  0.0     NaN    normal  notpresent  notpresent   \n",
       "2   2  62.0  80.0  1.010  2.0  3.0  normal    normal  notpresent  notpresent   \n",
       "3   3  48.0  70.0  1.005  4.0  0.0  normal  abnormal     present  notpresent   \n",
       "4   4  51.0  80.0  1.010  2.0  0.0  normal    normal  notpresent  notpresent   \n",
       "\n",
       "   ...  pcv    wc   rc  htn   dm  cad appet   pe  ane classification  \n",
       "0  ...   44  7800  5.2  yes  yes   no  good   no   no            ckd  \n",
       "1  ...   38  6000  NaN   no   no   no  good   no   no            ckd  \n",
       "2  ...   31  7500  NaN   no  yes   no  poor   no  yes            ckd  \n",
       "3  ...   32  6700  3.9  yes   no   no  poor  yes  yes            ckd  \n",
       "4  ...   35  7300  4.6   no   no   no  good   no   no            ckd  \n",
       "\n",
       "[5 rows x 26 columns]"
      ]
     },
     "execution_count": 3,
     "metadata": {},
     "output_type": "execute_result"
    }
   ],
   "source": [
    "kidney_df.head()"
   ]
  },
  {
   "cell_type": "code",
   "execution_count": 4,
   "id": "32d03004",
   "metadata": {},
   "outputs": [
    {
     "name": "stdout",
     "output_type": "stream",
     "text": [
      "<class 'pandas.core.frame.DataFrame'>\n",
      "RangeIndex: 400 entries, 0 to 399\n",
      "Data columns (total 26 columns):\n",
      " #   Column          Non-Null Count  Dtype  \n",
      "---  ------          --------------  -----  \n",
      " 0   id              400 non-null    int64  \n",
      " 1   age             391 non-null    float64\n",
      " 2   bp              388 non-null    float64\n",
      " 3   sg              353 non-null    float64\n",
      " 4   al              354 non-null    float64\n",
      " 5   su              351 non-null    float64\n",
      " 6   rbc             248 non-null    object \n",
      " 7   pc              335 non-null    object \n",
      " 8   pcc             396 non-null    object \n",
      " 9   ba              396 non-null    object \n",
      " 10  bgr             356 non-null    float64\n",
      " 11  bu              381 non-null    float64\n",
      " 12  sc              383 non-null    float64\n",
      " 13  sod             313 non-null    float64\n",
      " 14  pot             312 non-null    float64\n",
      " 15  hemo            348 non-null    float64\n",
      " 16  pcv             330 non-null    object \n",
      " 17  wc              295 non-null    object \n",
      " 18  rc              270 non-null    object \n",
      " 19  htn             398 non-null    object \n",
      " 20  dm              398 non-null    object \n",
      " 21  cad             398 non-null    object \n",
      " 22  appet           399 non-null    object \n",
      " 23  pe              399 non-null    object \n",
      " 24  ane             399 non-null    object \n",
      " 25  classification  400 non-null    object \n",
      "dtypes: float64(11), int64(1), object(14)\n",
      "memory usage: 81.4+ KB\n"
     ]
    }
   ],
   "source": [
    "kidney_df.info()"
   ]
  },
  {
   "cell_type": "code",
   "execution_count": 5,
   "id": "0b0cc0d3",
   "metadata": {},
   "outputs": [
    {
     "data": {
      "text/plain": [
       "(400, 26)"
      ]
     },
     "execution_count": 5,
     "metadata": {},
     "output_type": "execute_result"
    }
   ],
   "source": [
    "kidney_df.shape"
   ]
  },
  {
   "cell_type": "code",
   "execution_count": 6,
   "id": "bb28bf5a",
   "metadata": {},
   "outputs": [
    {
     "data": {
      "text/plain": [
       "Index(['id', 'age', 'bp', 'sg', 'al', 'su', 'rbc', 'pc', 'pcc', 'ba', 'bgr',\n",
       "       'bu', 'sc', 'sod', 'pot', 'hemo', 'pcv', 'wc', 'rc', 'htn', 'dm', 'cad',\n",
       "       'appet', 'pe', 'ane', 'classification'],\n",
       "      dtype='object')"
      ]
     },
     "execution_count": 6,
     "metadata": {},
     "output_type": "execute_result"
    }
   ],
   "source": [
    "kidney_df.columns"
   ]
  },
  {
   "cell_type": "code",
   "execution_count": 8,
   "id": "6e25c129",
   "metadata": {},
   "outputs": [
    {
     "data": {
      "text/html": [
       "<div>\n",
       "<style scoped>\n",
       "    .dataframe tbody tr th:only-of-type {\n",
       "        vertical-align: middle;\n",
       "    }\n",
       "\n",
       "    .dataframe tbody tr th {\n",
       "        vertical-align: top;\n",
       "    }\n",
       "\n",
       "    .dataframe thead th {\n",
       "        text-align: right;\n",
       "    }\n",
       "</style>\n",
       "<table border=\"1\" class=\"dataframe\">\n",
       "  <thead>\n",
       "    <tr style=\"text-align: right;\">\n",
       "      <th></th>\n",
       "      <th>count</th>\n",
       "      <th>mean</th>\n",
       "      <th>std</th>\n",
       "      <th>min</th>\n",
       "      <th>25%</th>\n",
       "      <th>50%</th>\n",
       "      <th>75%</th>\n",
       "      <th>max</th>\n",
       "    </tr>\n",
       "  </thead>\n",
       "  <tbody>\n",
       "    <tr>\n",
       "      <th>id</th>\n",
       "      <td>400.0</td>\n",
       "      <td>199.500000</td>\n",
       "      <td>115.614301</td>\n",
       "      <td>0.000</td>\n",
       "      <td>99.75</td>\n",
       "      <td>199.50</td>\n",
       "      <td>299.25</td>\n",
       "      <td>399.000</td>\n",
       "    </tr>\n",
       "    <tr>\n",
       "      <th>age</th>\n",
       "      <td>391.0</td>\n",
       "      <td>51.483376</td>\n",
       "      <td>17.169714</td>\n",
       "      <td>2.000</td>\n",
       "      <td>42.00</td>\n",
       "      <td>55.00</td>\n",
       "      <td>64.50</td>\n",
       "      <td>90.000</td>\n",
       "    </tr>\n",
       "    <tr>\n",
       "      <th>bp</th>\n",
       "      <td>388.0</td>\n",
       "      <td>76.469072</td>\n",
       "      <td>13.683637</td>\n",
       "      <td>50.000</td>\n",
       "      <td>70.00</td>\n",
       "      <td>80.00</td>\n",
       "      <td>80.00</td>\n",
       "      <td>180.000</td>\n",
       "    </tr>\n",
       "    <tr>\n",
       "      <th>sg</th>\n",
       "      <td>353.0</td>\n",
       "      <td>1.017408</td>\n",
       "      <td>0.005717</td>\n",
       "      <td>1.005</td>\n",
       "      <td>1.01</td>\n",
       "      <td>1.02</td>\n",
       "      <td>1.02</td>\n",
       "      <td>1.025</td>\n",
       "    </tr>\n",
       "    <tr>\n",
       "      <th>al</th>\n",
       "      <td>354.0</td>\n",
       "      <td>1.016949</td>\n",
       "      <td>1.352679</td>\n",
       "      <td>0.000</td>\n",
       "      <td>0.00</td>\n",
       "      <td>0.00</td>\n",
       "      <td>2.00</td>\n",
       "      <td>5.000</td>\n",
       "    </tr>\n",
       "    <tr>\n",
       "      <th>su</th>\n",
       "      <td>351.0</td>\n",
       "      <td>0.450142</td>\n",
       "      <td>1.099191</td>\n",
       "      <td>0.000</td>\n",
       "      <td>0.00</td>\n",
       "      <td>0.00</td>\n",
       "      <td>0.00</td>\n",
       "      <td>5.000</td>\n",
       "    </tr>\n",
       "    <tr>\n",
       "      <th>bgr</th>\n",
       "      <td>356.0</td>\n",
       "      <td>148.036517</td>\n",
       "      <td>79.281714</td>\n",
       "      <td>22.000</td>\n",
       "      <td>99.00</td>\n",
       "      <td>121.00</td>\n",
       "      <td>163.00</td>\n",
       "      <td>490.000</td>\n",
       "    </tr>\n",
       "    <tr>\n",
       "      <th>bu</th>\n",
       "      <td>381.0</td>\n",
       "      <td>57.425722</td>\n",
       "      <td>50.503006</td>\n",
       "      <td>1.500</td>\n",
       "      <td>27.00</td>\n",
       "      <td>42.00</td>\n",
       "      <td>66.00</td>\n",
       "      <td>391.000</td>\n",
       "    </tr>\n",
       "    <tr>\n",
       "      <th>sc</th>\n",
       "      <td>383.0</td>\n",
       "      <td>3.072454</td>\n",
       "      <td>5.741126</td>\n",
       "      <td>0.400</td>\n",
       "      <td>0.90</td>\n",
       "      <td>1.30</td>\n",
       "      <td>2.80</td>\n",
       "      <td>76.000</td>\n",
       "    </tr>\n",
       "    <tr>\n",
       "      <th>sod</th>\n",
       "      <td>313.0</td>\n",
       "      <td>137.528754</td>\n",
       "      <td>10.408752</td>\n",
       "      <td>4.500</td>\n",
       "      <td>135.00</td>\n",
       "      <td>138.00</td>\n",
       "      <td>142.00</td>\n",
       "      <td>163.000</td>\n",
       "    </tr>\n",
       "    <tr>\n",
       "      <th>pot</th>\n",
       "      <td>312.0</td>\n",
       "      <td>4.627244</td>\n",
       "      <td>3.193904</td>\n",
       "      <td>2.500</td>\n",
       "      <td>3.80</td>\n",
       "      <td>4.40</td>\n",
       "      <td>4.90</td>\n",
       "      <td>47.000</td>\n",
       "    </tr>\n",
       "    <tr>\n",
       "      <th>hemo</th>\n",
       "      <td>348.0</td>\n",
       "      <td>12.526437</td>\n",
       "      <td>2.912587</td>\n",
       "      <td>3.100</td>\n",
       "      <td>10.30</td>\n",
       "      <td>12.65</td>\n",
       "      <td>15.00</td>\n",
       "      <td>17.800</td>\n",
       "    </tr>\n",
       "  </tbody>\n",
       "</table>\n",
       "</div>"
      ],
      "text/plain": [
       "      count        mean         std     min     25%     50%     75%      max\n",
       "id    400.0  199.500000  115.614301   0.000   99.75  199.50  299.25  399.000\n",
       "age   391.0   51.483376   17.169714   2.000   42.00   55.00   64.50   90.000\n",
       "bp    388.0   76.469072   13.683637  50.000   70.00   80.00   80.00  180.000\n",
       "sg    353.0    1.017408    0.005717   1.005    1.01    1.02    1.02    1.025\n",
       "al    354.0    1.016949    1.352679   0.000    0.00    0.00    2.00    5.000\n",
       "su    351.0    0.450142    1.099191   0.000    0.00    0.00    0.00    5.000\n",
       "bgr   356.0  148.036517   79.281714  22.000   99.00  121.00  163.00  490.000\n",
       "bu    381.0   57.425722   50.503006   1.500   27.00   42.00   66.00  391.000\n",
       "sc    383.0    3.072454    5.741126   0.400    0.90    1.30    2.80   76.000\n",
       "sod   313.0  137.528754   10.408752   4.500  135.00  138.00  142.00  163.000\n",
       "pot   312.0    4.627244    3.193904   2.500    3.80    4.40    4.90   47.000\n",
       "hemo  348.0   12.526437    2.912587   3.100   10.30   12.65   15.00   17.800"
      ]
     },
     "execution_count": 8,
     "metadata": {},
     "output_type": "execute_result"
    }
   ],
   "source": [
    "kidney_df.describe().T"
   ]
  },
  {
   "cell_type": "code",
   "execution_count": 10,
   "id": "78b888b1",
   "metadata": {},
   "outputs": [
    {
     "data": {
      "text/plain": [
       "rbc               152\n",
       "rc                130\n",
       "wc                105\n",
       "pot                88\n",
       "sod                87\n",
       "pcv                70\n",
       "pc                 65\n",
       "hemo               52\n",
       "su                 49\n",
       "sg                 47\n",
       "al                 46\n",
       "bgr                44\n",
       "bu                 19\n",
       "sc                 17\n",
       "bp                 12\n",
       "age                 9\n",
       "ba                  4\n",
       "pcc                 4\n",
       "htn                 2\n",
       "dm                  2\n",
       "cad                 2\n",
       "ane                 1\n",
       "appet               1\n",
       "pe                  1\n",
       "id                  0\n",
       "classification      0\n",
       "dtype: int64"
      ]
     },
     "execution_count": 10,
     "metadata": {},
     "output_type": "execute_result"
    }
   ],
   "source": [
    "kidney_df.isnull().sum().sort_values(ascending=False)"
   ]
  },
  {
   "cell_type": "code",
   "execution_count": 11,
   "id": "065dbcd0",
   "metadata": {},
   "outputs": [],
   "source": [
    "cols_names={\"bp\":\"blood_pressure\",\n",
    "          \"sg\":\"specific_gravity\",\n",
    "          \"al\":\"albumin\",\n",
    "          \"su\":\"sugar\",\n",
    "          \"rbc\":\"red_blood_cells\",\n",
    "          \"pc\":\"pus_cell\",\n",
    "          \"pcc\":\"pus_cell_clumps\",\n",
    "          \"ba\":\"bacteria\",\n",
    "          \"bgr\":\"blood_glucose_random\",\n",
    "          \"bu\":\"blood_urea\",\n",
    "          \"sc\":\"serum_creatinine\",\n",
    "          \"sod\":\"sodium\",\n",
    "          \"pot\":\"potassium\",\n",
    "          \"hemo\":\"haemoglobin\",\n",
    "          \"pcv\":\"packed_cell_volume\",\n",
    "          \"wc\":\"white_blood_cell_count\",\n",
    "          \"rc\":\"red_blood_cell_count\",\n",
    "          \"htn\":\"hypertension\",\n",
    "          \"dm\":\"diabetes_mellitus\",\n",
    "          \"cad\":\"coronary_artery_disease\",\n",
    "          \"appet\":\"appetite\",\n",
    "          \"pe\":\"pedal_edema\",\n",
    "          \"ane\":\"anemia\"}\n",
    "\n",
    "kidney_df.rename(columns=cols_names, inplace=True)"
   ]
  },
  {
   "cell_type": "code",
   "execution_count": 14,
   "id": "5d1133cc",
   "metadata": {},
   "outputs": [],
   "source": [
    "numerical_features = []\n",
    "categorical_features = []\n",
    "\n",
    "for i in kidney_df.columns:\n",
    "    if kidney_df[i].nunique()>7:\n",
    "        numerical_features.append(i)\n",
    "    else:\n",
    "        categorical_features.append(i)"
   ]
  },
  {
   "cell_type": "code",
   "execution_count": 16,
   "id": "0ed49150",
   "metadata": {},
   "outputs": [
    {
     "name": "stdout",
     "output_type": "stream",
     "text": [
      "specific_gravity has [1.02  1.01  1.005 1.015   nan 1.025] categories.\n",
      "\n",
      "albumin has [ 1.  4.  2.  3.  0. nan  5.] categories.\n",
      "\n",
      "sugar has [ 0.  3.  4.  1. nan  2.  5.] categories.\n",
      "\n",
      "red_blood_cells has [nan 'normal' 'abnormal'] categories.\n",
      "\n",
      "pus_cell has ['normal' 'abnormal' nan] categories.\n",
      "\n",
      "pus_cell_clumps has ['notpresent' 'present' nan] categories.\n",
      "\n",
      "bacteria has ['notpresent' 'present' nan] categories.\n",
      "\n",
      "hypertension has ['yes' 'no' nan] categories.\n",
      "\n",
      "diabetes_mellitus has ['yes' 'no' ' yes' '\\tno' '\\tyes' nan] categories.\n",
      "\n",
      "coronary_artery_disease has ['no' 'yes' '\\tno' nan] categories.\n",
      "\n",
      "appetite has ['good' 'poor' nan] categories.\n",
      "\n",
      "pedal_edema has ['no' 'yes' nan] categories.\n",
      "\n",
      "anemia has ['no' 'yes' nan] categories.\n",
      "\n",
      "classification has ['ckd' 'ckd\\t' 'notckd'] categories.\n",
      "\n"
     ]
    }
   ],
   "source": [
    "for feats in categorical_features:\n",
    "    print(f'{feats} has {kidney_df[feats].unique()} categories.\\n')"
   ]
  },
  {
   "cell_type": "code",
   "execution_count": 19,
   "id": "4c3996df",
   "metadata": {},
   "outputs": [],
   "source": [
    "kidney_df['diabetes_mellitus'] = kidney_df['diabetes_mellitus'].replace(to_replace = {'no':'no','yes':'yes',' yes':'yes'})\n",
    "kidney_df['coronary_artery_disease'] = kidney_df['coronary_artery_disease'].replace(to_replace = 'no', value='no')\n",
    "kidney_df['classification'] = kidney_df['classification'].replace(to_replace = 'ckd', value = 'ckd')"
   ]
  },
  {
   "cell_type": "code",
   "execution_count": 20,
   "id": "54c703f1",
   "metadata": {},
   "outputs": [
    {
     "name": "stdout",
     "output_type": "stream",
     "text": [
      "specific_gravity has [1.02  1.01  1.005 1.015   nan 1.025] categories.\n",
      "\n",
      "albumin has [ 1.  4.  2.  3.  0. nan  5.] categories.\n",
      "\n",
      "sugar has [ 0.  3.  4.  1. nan  2.  5.] categories.\n",
      "\n",
      "red_blood_cells has [nan 'normal' 'abnormal'] categories.\n",
      "\n",
      "pus_cell has ['normal' 'abnormal' nan] categories.\n",
      "\n",
      "pus_cell_clumps has ['notpresent' 'present' nan] categories.\n",
      "\n",
      "bacteria has ['notpresent' 'present' nan] categories.\n",
      "\n",
      "hypertension has ['yes' 'no' nan] categories.\n",
      "\n",
      "diabetes_mellitus has ['yes' 'no' '\\tno' '\\tyes' nan] categories.\n",
      "\n",
      "coronary_artery_disease has ['no' 'yes' '\\tno' nan] categories.\n",
      "\n",
      "appetite has ['good' 'poor' nan] categories.\n",
      "\n",
      "pedal_edema has ['no' 'yes' nan] categories.\n",
      "\n",
      "anemia has ['no' 'yes' nan] categories.\n",
      "\n",
      "classification has ['ckd' 'ckd\\t' 'notckd'] categories.\n",
      "\n"
     ]
    }
   ],
   "source": [
    "for feats in categorical_features:\n",
    "    print(f'{feats} has {kidney_df[feats].unique()} categories.\\n')"
   ]
  },
  {
   "cell_type": "code",
   "execution_count": 23,
   "id": "681d05fb",
   "metadata": {},
   "outputs": [
    {
     "ename": "ValueError",
     "evalue": "could not convert string to float: '\\t?'",
     "output_type": "error",
     "traceback": [
      "\u001b[1;31m---------------------------------------------------------------------------\u001b[0m",
      "\u001b[1;31mValueError\u001b[0m                                Traceback (most recent call last)",
      "\u001b[1;32m~\\AppData\\Local\\Temp/ipykernel_6340/1249002369.py\u001b[0m in \u001b[0;36m<module>\u001b[1;34m\u001b[0m\n\u001b[0;32m      5\u001b[0m \u001b[1;33m\u001b[0m\u001b[0m\n\u001b[0;32m      6\u001b[0m \u001b[1;32mfor\u001b[0m \u001b[0max\u001b[0m\u001b[1;33m,\u001b[0m \u001b[0mfeats\u001b[0m \u001b[1;32min\u001b[0m \u001b[0mzip\u001b[0m\u001b[1;33m(\u001b[0m\u001b[0maxes\u001b[0m\u001b[1;33m.\u001b[0m\u001b[0mflatten\u001b[0m\u001b[1;33m(\u001b[0m\u001b[1;33m)\u001b[0m\u001b[1;33m,\u001b[0m \u001b[0mnumerical_features\u001b[0m\u001b[1;33m)\u001b[0m\u001b[1;33m:\u001b[0m\u001b[1;33m\u001b[0m\u001b[1;33m\u001b[0m\u001b[0m\n\u001b[1;32m----> 7\u001b[1;33m     \u001b[0msns\u001b[0m\u001b[1;33m.\u001b[0m\u001b[0mdistplot\u001b[0m\u001b[1;33m(\u001b[0m\u001b[0mkidney_df\u001b[0m\u001b[1;33m[\u001b[0m\u001b[0mfeats\u001b[0m\u001b[1;33m]\u001b[0m\u001b[1;33m,\u001b[0m \u001b[0max\u001b[0m\u001b[1;33m=\u001b[0m\u001b[0max\u001b[0m\u001b[1;33m)\u001b[0m\u001b[1;33m\u001b[0m\u001b[1;33m\u001b[0m\u001b[0m\n\u001b[0m",
      "\u001b[1;32mc:\\python39\\lib\\site-packages\\seaborn\\distributions.py\u001b[0m in \u001b[0;36mdistplot\u001b[1;34m(a, bins, hist, kde, rug, fit, hist_kws, kde_kws, rug_kws, fit_kws, color, vertical, norm_hist, axlabel, label, ax, x)\u001b[0m\n\u001b[0;32m   2634\u001b[0m \u001b[1;33m\u001b[0m\u001b[0m\n\u001b[0;32m   2635\u001b[0m     \u001b[1;31m# Make a a 1-d float array\u001b[0m\u001b[1;33m\u001b[0m\u001b[1;33m\u001b[0m\u001b[1;33m\u001b[0m\u001b[0m\n\u001b[1;32m-> 2636\u001b[1;33m     \u001b[0ma\u001b[0m \u001b[1;33m=\u001b[0m \u001b[0mnp\u001b[0m\u001b[1;33m.\u001b[0m\u001b[0masarray\u001b[0m\u001b[1;33m(\u001b[0m\u001b[0ma\u001b[0m\u001b[1;33m,\u001b[0m \u001b[0mfloat\u001b[0m\u001b[1;33m)\u001b[0m\u001b[1;33m\u001b[0m\u001b[1;33m\u001b[0m\u001b[0m\n\u001b[0m\u001b[0;32m   2637\u001b[0m     \u001b[1;32mif\u001b[0m \u001b[0ma\u001b[0m\u001b[1;33m.\u001b[0m\u001b[0mndim\u001b[0m \u001b[1;33m>\u001b[0m \u001b[1;36m1\u001b[0m\u001b[1;33m:\u001b[0m\u001b[1;33m\u001b[0m\u001b[1;33m\u001b[0m\u001b[0m\n\u001b[0;32m   2638\u001b[0m         \u001b[0ma\u001b[0m \u001b[1;33m=\u001b[0m \u001b[0ma\u001b[0m\u001b[1;33m.\u001b[0m\u001b[0msqueeze\u001b[0m\u001b[1;33m(\u001b[0m\u001b[1;33m)\u001b[0m\u001b[1;33m\u001b[0m\u001b[1;33m\u001b[0m\u001b[0m\n",
      "\u001b[1;32mc:\\python39\\lib\\site-packages\\numpy\\core\\_asarray.py\u001b[0m in \u001b[0;36masarray\u001b[1;34m(a, dtype, order)\u001b[0m\n\u001b[0;32m     81\u001b[0m \u001b[1;33m\u001b[0m\u001b[0m\n\u001b[0;32m     82\u001b[0m     \"\"\"\n\u001b[1;32m---> 83\u001b[1;33m     \u001b[1;32mreturn\u001b[0m \u001b[0marray\u001b[0m\u001b[1;33m(\u001b[0m\u001b[0ma\u001b[0m\u001b[1;33m,\u001b[0m \u001b[0mdtype\u001b[0m\u001b[1;33m,\u001b[0m \u001b[0mcopy\u001b[0m\u001b[1;33m=\u001b[0m\u001b[1;32mFalse\u001b[0m\u001b[1;33m,\u001b[0m \u001b[0morder\u001b[0m\u001b[1;33m=\u001b[0m\u001b[0morder\u001b[0m\u001b[1;33m)\u001b[0m\u001b[1;33m\u001b[0m\u001b[1;33m\u001b[0m\u001b[0m\n\u001b[0m\u001b[0;32m     84\u001b[0m \u001b[1;33m\u001b[0m\u001b[0m\n\u001b[0;32m     85\u001b[0m \u001b[1;33m\u001b[0m\u001b[0m\n",
      "\u001b[1;32mc:\\python39\\lib\\site-packages\\pandas\\core\\series.py\u001b[0m in \u001b[0;36m__array__\u001b[1;34m(self, dtype)\u001b[0m\n\u001b[0;32m    855\u001b[0m               dtype='datetime64[ns]')\n\u001b[0;32m    856\u001b[0m         \"\"\"\n\u001b[1;32m--> 857\u001b[1;33m         \u001b[1;32mreturn\u001b[0m \u001b[0mnp\u001b[0m\u001b[1;33m.\u001b[0m\u001b[0masarray\u001b[0m\u001b[1;33m(\u001b[0m\u001b[0mself\u001b[0m\u001b[1;33m.\u001b[0m\u001b[0m_values\u001b[0m\u001b[1;33m,\u001b[0m \u001b[0mdtype\u001b[0m\u001b[1;33m)\u001b[0m\u001b[1;33m\u001b[0m\u001b[1;33m\u001b[0m\u001b[0m\n\u001b[0m\u001b[0;32m    858\u001b[0m \u001b[1;33m\u001b[0m\u001b[0m\n\u001b[0;32m    859\u001b[0m     \u001b[1;31m# ----------------------------------------------------------------------\u001b[0m\u001b[1;33m\u001b[0m\u001b[1;33m\u001b[0m\u001b[1;33m\u001b[0m\u001b[0m\n",
      "\u001b[1;32mc:\\python39\\lib\\site-packages\\numpy\\core\\_asarray.py\u001b[0m in \u001b[0;36masarray\u001b[1;34m(a, dtype, order)\u001b[0m\n\u001b[0;32m     81\u001b[0m \u001b[1;33m\u001b[0m\u001b[0m\n\u001b[0;32m     82\u001b[0m     \"\"\"\n\u001b[1;32m---> 83\u001b[1;33m     \u001b[1;32mreturn\u001b[0m \u001b[0marray\u001b[0m\u001b[1;33m(\u001b[0m\u001b[0ma\u001b[0m\u001b[1;33m,\u001b[0m \u001b[0mdtype\u001b[0m\u001b[1;33m,\u001b[0m \u001b[0mcopy\u001b[0m\u001b[1;33m=\u001b[0m\u001b[1;32mFalse\u001b[0m\u001b[1;33m,\u001b[0m \u001b[0morder\u001b[0m\u001b[1;33m=\u001b[0m\u001b[0morder\u001b[0m\u001b[1;33m)\u001b[0m\u001b[1;33m\u001b[0m\u001b[1;33m\u001b[0m\u001b[0m\n\u001b[0m\u001b[0;32m     84\u001b[0m \u001b[1;33m\u001b[0m\u001b[0m\n\u001b[0;32m     85\u001b[0m \u001b[1;33m\u001b[0m\u001b[0m\n",
      "\u001b[1;31mValueError\u001b[0m: could not convert string to float: '\\t?'"
     ]
    },
    {
     "data": {
      "image/png": "[encoded data removed]",
      "text/plain": [
       "<Figure size 1080x1080 with 12 Axes>"
      ]
     },
     "metadata": {
      "needs_background": "light"
     },
     "output_type": "display_data"
    }
   ],
   "source": [
    "fig, axes = plt.subplots(nrows=4, ncols=3, figsize=(15,15))\n",
    "fig.subplots_adjust(hspace=0.5)\n",
    "fig.suptitle('Distributions of numerical Features')\n",
    "\n",
    "\n",
    "for ax, feats in zip(axes.flatten(), numerical_features):\n",
    "    sns.distplot(kidney_df[feats], ax=ax)"
   ]
  },
  {
   "cell_type": "code",
   "execution_count": 24,
   "id": "6b589ef4",
   "metadata": {},
   "outputs": [
    {
     "data": {
      "image/png": "[encoded data removed]",
      "text/plain": [
       "<Figure size 1080x1080 with 15 Axes>"
      ]
     },
     "metadata": {
      "needs_background": "light"
     },
     "output_type": "display_data"
    }
   ],
   "source": [
    "fig, axes = plt.subplots(nrows=5, ncols=3, figsize=(15,15))\n",
    "fig.subplots_adjust(hspace=0.5)\n",
    "fig.suptitle('Distributions of categorical Features')\n",
    "\n",
    "\n",
    "for ax, feats in zip(axes.flatten(), categorical_features):\n",
    "    sns.countplot(kidney_df[feats], ax=ax)"
   ]
  },
  {
   "cell_type": "code",
   "execution_count": 25,
   "id": "51d7f7db",
   "metadata": {},
   "outputs": [
    {
     "data": {
      "image/png": "[encoded data removed]",
      "text/plain": [
       "<Figure size 432x288 with 1 Axes>"
      ]
     },
     "metadata": {
      "needs_background": "light"
     },
     "output_type": "display_data"
    },
    {
     "name": "stdout",
     "output_type": "stream",
     "text": [
      "Percent of chronic kidney disease sample:  62.0 %\n",
      "Percent of not a chronic kidney disease sample:  37.5 %\n"
     ]
    }
   ],
   "source": [
    "sns.countplot(x='classification',data=kidney_df)\n",
    "plt.xlabel(\"classification\")\n",
    "plt.ylabel(\"Count\")\n",
    "plt.title(\"target Class\")\n",
    "plt.show()\n",
    "print('Percent of chronic kidney disease sample: ',round(len(kidney_df[kidney_df['classification']=='ckd'])/len(kidney_df['classification'])*100,2),\"%\")\n",
    "print('Percent of not a chronic kidney disease sample: ',round(len(kidney_df[kidney_df['classification']=='notckd'])/len(kidney_df['classification'])*100,2),\"%\")"
   ]
  },
  {
   "cell_type": "code",
   "execution_count": 27,
   "id": "540712e3",
   "metadata": {},
   "outputs": [
    {
     "data": {
      "image/png": "[encoded data removed]",
      "text/plain": [
       "<Figure size 1080x1080 with 2 Axes>"
      ]
     },
     "metadata": {
      "needs_background": "light"
     },
     "output_type": "display_data"
    }
   ],
   "source": [
    "corr_df = kidney_df.corr()\n",
    "f,ax=plt.subplots(figsize=(15,15))\n",
    "mask = np.zeros_like(corr_df)\n",
    "mask[np.triu_indices_from(mask)] = True\n",
    "sns.heatmap(corr_df,annot=True,fmt=\".2f\",ax=ax,linewidths=0.5,linecolor=\"orange\", mask = mask, square=True)\n",
    "plt.xticks(rotation=45)\n",
    "plt.yticks(rotation=45)\n",
    "plt.title('Correlations between different features')\n",
    "plt.show()"
   ]
  },
  {
   "cell_type": "code",
   "execution_count": 28,
   "id": "2afb585f",
   "metadata": {},
   "outputs": [],
   "source": [
    "df=pd.read_csv('kidney.csv')"
   ]
  },
  {
   "cell_type": "code",
   "execution_count": 29,
   "id": "2d40f4a1",
   "metadata": {},
   "outputs": [],
   "source": [
    "df[['htn','dm','cad','pe','ane']] = df[['htn','dm','cad','pe','ane']].replace(to_replace={'yes':1,'no':0})\n",
    "df[['rbc','pc']] = df[['rbc','pc']].replace(to_replace={'abnormal':1,'normal':0})\n",
    "df[['pcc','ba']] = df[['pcc','ba']].replace(to_replace={'present':1,'notpresent':0})\n",
    "df[['appet']] = df[['appet']].replace(to_replace={'good':1,'poor':0,'no':np.nan})\n",
    "df['classification'] = df['classification'].replace(to_replace={'ckd':1.0,'ckd\\t':1.0,'notckd':0.0,'no':0.0})\n",
    "df.rename(columns={'classification':'class'},inplace=True)\n",
    "df['pe'] = df['pe'].replace(to_replace='good',value=0)\n",
    "df['appet'] = df['appet'].replace(to_replace='no',value=0)\n",
    "df['cad'] = df['cad'].replace(to_replace='\\tno',value=0)\n",
    "df['dm'] = df['dm'].replace(to_replace={'\\tno':0,'\\tyes':1,' yes':1, '':np.nan})\n",
    "\n",
    "df.drop('id',axis=1,inplace=True)\n",
    "df = df.dropna(axis=0)\n",
    "\n",
    "cols = ['bp', 'sg', 'al', 'su', 'rbc', 'pc', 'pcc']\n",
    "X = df[cols]\n",
    "y = df['class']"
   ]
  },
  {
   "cell_type": "code",
   "execution_count": 32,
   "id": "7647fc06",
   "metadata": {},
   "outputs": [
    {
     "name": "stdout",
     "output_type": "stream",
     "text": [
      "(105, 7)\n",
      "(105,)\n",
      "(53, 7)\n",
      "(53,)\n"
     ]
    }
   ],
   "source": [
    "X_train, X_test, y_train, y_test = train_test_split(X, y, test_size=0.33, random_state=42)\n",
    "print (X_train.shape)\n",
    "print (y_train.shape)\n",
    "print (X_test.shape)\n",
    "print (y_test.shape)"
   ]
  },
  {
   "cell_type": "code",
   "execution_count": 33,
   "id": "635d651e",
   "metadata": {},
   "outputs": [],
   "source": [
    "from sklearn.metrics import confusion_matrix, accuracy_score, precision_score, recall_score\n",
    "    \n",
    "def evaluating_model(A,y_test, y_pred):\n",
    "    print(A,\" Accuracy Score:- \", accuracy_score(y_test, y_pred)) \n",
    "    print(A,\" Precision Score:- \", precision_score(y_test, y_pred)) \n",
    "    print(A,\" Recall Score:- \", recall_score(y_test, y_pred)) \n",
    "    print(A,\" Confusion Matrix:- \\n\", confusion_matrix(y_test, y_pred))\n",
    "    print(A,'Classification Report: \\n', classification_report(y_test,y_pred))"
   ]
  },
  {
   "cell_type": "markdown",
   "id": "c80a2135",
   "metadata": {},
   "source": [
    "# Model Selection"
   ]
  },
  {
   "cell_type": "code",
   "execution_count": 35,
   "id": "e17e34fd",
   "metadata": {},
   "outputs": [
    {
     "name": "stdout",
     "output_type": "stream",
     "text": [
      "Logistic Regrestion  Accuracy Score:-  0.9811320754716981\n",
      "Logistic Regrestion  Precision Score:-  1.0\n",
      "Logistic Regrestion  Recall Score:-  0.9285714285714286\n",
      "Logistic Regrestion  Confusion Matrix:- \n",
      " [[39  0]\n",
      " [ 1 13]]\n",
      "Logistic Regrestion Classification Report: \n",
      "               precision    recall  f1-score   support\n",
      "\n",
      "         0.0       0.97      1.00      0.99        39\n",
      "         1.0       1.00      0.93      0.96        14\n",
      "\n",
      "    accuracy                           0.98        53\n",
      "   macro avg       0.99      0.96      0.98        53\n",
      "weighted avg       0.98      0.98      0.98        53\n",
      "\n",
      "98.1\n",
      "98.11\n"
     ]
    }
   ],
   "source": [
    "### 1. Logistic Regression\n",
    "LR=LogisticRegression()\n",
    "LR.fit(X_train, y_train)\n",
    "y_predLR=LR.predict(X_test)\n",
    "evaluating_model(\"Logistic Regrestion\",y_test,y_predLR)\n",
    "LR_TRAIN_SCORE = round(LR.score(X_train, y_train) * 100, 2)\n",
    "LR_TEST_SCORE = round(LR.score(X_test, y_test) * 100, 2)\n",
    "print(LR_TRAIN_SCORE)\n",
    "print(LR_TEST_SCORE)"
   ]
  },
  {
   "cell_type": "code",
   "execution_count": 36,
   "id": "38134417",
   "metadata": {},
   "outputs": [
    {
     "name": "stdout",
     "output_type": "stream",
     "text": [
      "Gaussian Naive Bayes  Accuracy Score:-  1.0\n",
      "Gaussian Naive Bayes  Precision Score:-  1.0\n",
      "Gaussian Naive Bayes  Recall Score:-  1.0\n",
      "Gaussian Naive Bayes  Confusion Matrix:- \n",
      " [[39  0]\n",
      " [ 0 14]]\n",
      "Gaussian Naive Bayes Classification Report: \n",
      "               precision    recall  f1-score   support\n",
      "\n",
      "         0.0       1.00      1.00      1.00        39\n",
      "         1.0       1.00      1.00      1.00        14\n",
      "\n",
      "    accuracy                           1.00        53\n",
      "   macro avg       1.00      1.00      1.00        53\n",
      "weighted avg       1.00      1.00      1.00        53\n",
      "\n",
      "99.05\n",
      "100.0\n"
     ]
    }
   ],
   "source": [
    "### 2. Gaussian Naive Bayes\n",
    "GNB=GaussianNB()\n",
    "GNB.fit(X_train,y_train)\n",
    "y_predGNB=GNB.predict(X_test)\n",
    "evaluating_model(\"Gaussian Naive Bayes\",y_test,y_predGNB)\n",
    "GNB_TRAIN_SCORE = round(GNB.score(X_train, y_train) * 100, 2)\n",
    "GNB_TEST_SCORE = round(GNB.score(X_test, y_test) * 100, 2)\n",
    "print(GNB_TRAIN_SCORE)\n",
    "print(GNB_TEST_SCORE)"
   ]
  },
  {
   "cell_type": "code",
   "execution_count": 37,
   "id": "da097cf4",
   "metadata": {},
   "outputs": [
    {
     "name": "stdout",
     "output_type": "stream",
     "text": [
      "Random Forest  Accuracy Score:-  1.0\n",
      "Random Forest  Precision Score:-  1.0\n",
      "Random Forest  Recall Score:-  1.0\n",
      "Random Forest  Confusion Matrix:- \n",
      " [[39  0]\n",
      " [ 0 14]]\n",
      "Random Forest Classification Report: \n",
      "               precision    recall  f1-score   support\n",
      "\n",
      "         0.0       1.00      1.00      1.00        39\n",
      "         1.0       1.00      1.00      1.00        14\n",
      "\n",
      "    accuracy                           1.00        53\n",
      "   macro avg       1.00      1.00      1.00        53\n",
      "weighted avg       1.00      1.00      1.00        53\n",
      "\n",
      "100.0\n",
      "100.0\n"
     ]
    }
   ],
   "source": [
    "### 3. Random Forest\n",
    "RFC=RandomForestClassifier(n_estimators=100)\n",
    "RFC.fit(X_train,y_train)\n",
    "y_predRFC=RFC.predict(X_test)\n",
    "evaluating_model(\"Random Forest\",y_test,y_predRFC)\n",
    "RFC_TRAIN_SCORE = round(RFC.score(X_train, y_train) * 100, 2)\n",
    "RFC_TEST_SCORE = round(RFC.score(X_test, y_test) * 100, 2)\n",
    "print(RFC_TRAIN_SCORE)\n",
    "print(RFC_TEST_SCORE)"
   ]
  },
  {
   "cell_type": "code",
   "execution_count": 38,
   "id": "f816fcf4",
   "metadata": {},
   "outputs": [
    {
     "name": "stdout",
     "output_type": "stream",
     "text": [
      "Fitting 5 folds for each of 25 candidates, totalling 125 fits\n",
      "[CV 1/5] END ........C=0.1, gamma=1, kernel=rbf;, score=0.714 total time=   0.0s\n",
      "[CV 2/5] END ........C=0.1, gamma=1, kernel=rbf;, score=0.714 total time=   0.0s\n",
      "[CV 3/5] END ........C=0.1, gamma=1, kernel=rbf;, score=0.714 total time=   0.0s\n",
      "[CV 4/5] END ........C=0.1, gamma=1, kernel=rbf;, score=0.714 total time=   0.0s\n",
      "[CV 5/5] END ........C=0.1, gamma=1, kernel=rbf;, score=0.762 total time=   0.0s\n",
      "[CV 1/5] END ......C=0.1, gamma=0.1, kernel=rbf;, score=0.714 total time=   0.0s\n",
      "[CV 2/5] END ......C=0.1, gamma=0.1, kernel=rbf;, score=0.714 total time=   0.0s\n",
      "[CV 3/5] END ......C=0.1, gamma=0.1, kernel=rbf;, score=0.762 total time=   0.0s\n",
      "[CV 4/5] END ......C=0.1, gamma=0.1, kernel=rbf;, score=0.714 total time=   0.0s\n",
      "[CV 5/5] END ......C=0.1, gamma=0.1, kernel=rbf;, score=0.762 total time=   0.0s\n",
      "[CV 1/5] END .....C=0.1, gamma=0.01, kernel=rbf;, score=0.714 total time=   0.0s\n",
      "[CV 2/5] END .....C=0.1, gamma=0.01, kernel=rbf;, score=0.714 total time=   0.0s\n",
      "[CV 3/5] END .....C=0.1, gamma=0.01, kernel=rbf;, score=0.762 total time=   0.0s\n",
      "[CV 4/5] END .....C=0.1, gamma=0.01, kernel=rbf;, score=0.762 total time=   0.0s\n",
      "[CV 5/5] END .....C=0.1, gamma=0.01, kernel=rbf;, score=0.762 total time=   0.0s\n",
      "[CV 1/5] END ....C=0.1, gamma=0.001, kernel=rbf;, score=0.714 total time=   0.0s\n",
      "[CV 2/5] END ....C=0.1, gamma=0.001, kernel=rbf;, score=0.714 total time=   0.0s\n",
      "[CV 3/5] END ....C=0.1, gamma=0.001, kernel=rbf;, score=0.714 total time=   0.0s\n",
      "[CV 4/5] END ....C=0.1, gamma=0.001, kernel=rbf;, score=0.714 total time=   0.0s\n",
      "[CV 5/5] END ....C=0.1, gamma=0.001, kernel=rbf;, score=0.762 total time=   0.0s\n",
      "[CV 1/5] END ...C=0.1, gamma=0.0001, kernel=rbf;, score=0.714 total time=   0.0s\n",
      "[CV 2/5] END ...C=0.1, gamma=0.0001, kernel=rbf;, score=0.714 total time=   0.0s\n",
      "[CV 3/5] END ...C=0.1, gamma=0.0001, kernel=rbf;, score=0.714 total time=   0.0s\n",
      "[CV 4/5] END ...C=0.1, gamma=0.0001, kernel=rbf;, score=0.714 total time=   0.0s\n",
      "[CV 5/5] END ...C=0.1, gamma=0.0001, kernel=rbf;, score=0.762 total time=   0.0s\n",
      "[CV 1/5] END ..........C=1, gamma=1, kernel=rbf;, score=1.000 total time=   0.0s\n",
      "[CV 2/5] END ..........C=1, gamma=1, kernel=rbf;, score=1.000 total time=   0.0s\n",
      "[CV 3/5] END ..........C=1, gamma=1, kernel=rbf;, score=0.952 total time=   0.0s\n",
      "[CV 4/5] END ..........C=1, gamma=1, kernel=rbf;, score=1.000 total time=   0.0s\n",
      "[CV 5/5] END ..........C=1, gamma=1, kernel=rbf;, score=1.000 total time=   0.0s\n",
      "[CV 1/5] END ........C=1, gamma=0.1, kernel=rbf;, score=1.000 total time=   0.0s\n",
      "[CV 2/5] END ........C=1, gamma=0.1, kernel=rbf;, score=0.952 total time=   0.0s\n",
      "[CV 3/5] END ........C=1, gamma=0.1, kernel=rbf;, score=0.952 total time=   0.0s\n",
      "[CV 4/5] END ........C=1, gamma=0.1, kernel=rbf;, score=1.000 total time=   0.0s\n",
      "[CV 5/5] END ........C=1, gamma=0.1, kernel=rbf;, score=1.000 total time=   0.0s\n",
      "[CV 1/5] END .......C=1, gamma=0.01, kernel=rbf;, score=0.952 total time=   0.0s\n",
      "[CV 2/5] END .......C=1, gamma=0.01, kernel=rbf;, score=0.905 total time=   0.0s\n",
      "[CV 3/5] END .......C=1, gamma=0.01, kernel=rbf;, score=0.905 total time=   0.0s\n",
      "[CV 4/5] END .......C=1, gamma=0.01, kernel=rbf;, score=0.905 total time=   0.0s\n",
      "[CV 5/5] END .......C=1, gamma=0.01, kernel=rbf;, score=1.000 total time=   0.0s\n",
      "[CV 1/5] END ......C=1, gamma=0.001, kernel=rbf;, score=0.857 total time=   0.0s\n",
      "[CV 2/5] END ......C=1, gamma=0.001, kernel=rbf;, score=0.810 total time=   0.0s\n",
      "[CV 3/5] END ......C=1, gamma=0.001, kernel=rbf;, score=0.762 total time=   0.0s\n",
      "[CV 4/5] END ......C=1, gamma=0.001, kernel=rbf;, score=0.762 total time=   0.0s\n",
      "[CV 5/5] END ......C=1, gamma=0.001, kernel=rbf;, score=0.857 total time=   0.0s\n",
      "[CV 1/5] END .....C=1, gamma=0.0001, kernel=rbf;, score=0.714 total time=   0.0s\n",
      "[CV 2/5] END .....C=1, gamma=0.0001, kernel=rbf;, score=0.714 total time=   0.0s\n",
      "[CV 3/5] END .....C=1, gamma=0.0001, kernel=rbf;, score=0.714 total time=   0.0s\n",
      "[CV 4/5] END .....C=1, gamma=0.0001, kernel=rbf;, score=0.714 total time=   0.0s\n",
      "[CV 5/5] END .....C=1, gamma=0.0001, kernel=rbf;, score=0.762 total time=   0.0s\n",
      "[CV 1/5] END .........C=10, gamma=1, kernel=rbf;, score=1.000 total time=   0.0s\n",
      "[CV 2/5] END .........C=10, gamma=1, kernel=rbf;, score=1.000 total time=   0.0s\n",
      "[CV 3/5] END .........C=10, gamma=1, kernel=rbf;, score=0.952 total time=   0.0s\n",
      "[CV 4/5] END .........C=10, gamma=1, kernel=rbf;, score=1.000 total time=   0.0s\n",
      "[CV 5/5] END .........C=10, gamma=1, kernel=rbf;, score=1.000 total time=   0.0s\n",
      "[CV 1/5] END .......C=10, gamma=0.1, kernel=rbf;, score=1.000 total time=   0.0s\n",
      "[CV 2/5] END .......C=10, gamma=0.1, kernel=rbf;, score=0.952 total time=   0.0s\n",
      "[CV 3/5] END .......C=10, gamma=0.1, kernel=rbf;, score=0.952 total time=   0.0s\n",
      "[CV 4/5] END .......C=10, gamma=0.1, kernel=rbf;, score=1.000 total time=   0.0s\n",
      "[CV 5/5] END .......C=10, gamma=0.1, kernel=rbf;, score=1.000 total time=   0.0s\n",
      "[CV 1/5] END ......C=10, gamma=0.01, kernel=rbf;, score=1.000 total time=   0.0s\n",
      "[CV 2/5] END ......C=10, gamma=0.01, kernel=rbf;, score=0.952 total time=   0.0s\n",
      "[CV 3/5] END ......C=10, gamma=0.01, kernel=rbf;, score=0.952 total time=   0.0s\n",
      "[CV 4/5] END ......C=10, gamma=0.01, kernel=rbf;, score=0.952 total time=   0.0s\n",
      "[CV 5/5] END ......C=10, gamma=0.01, kernel=rbf;, score=1.000 total time=   0.0s\n",
      "[CV 1/5] END .....C=10, gamma=0.001, kernel=rbf;, score=0.952 total time=   0.0s\n",
      "[CV 2/5] END .....C=10, gamma=0.001, kernel=rbf;, score=0.905 total time=   0.0s\n",
      "[CV 3/5] END .....C=10, gamma=0.001, kernel=rbf;, score=0.952 total time=   0.0s\n",
      "[CV 4/5] END .....C=10, gamma=0.001, kernel=rbf;, score=0.952 total time=   0.0s\n",
      "[CV 5/5] END .....C=10, gamma=0.001, kernel=rbf;, score=1.000 total time=   0.0s\n",
      "[CV 1/5] END ....C=10, gamma=0.0001, kernel=rbf;, score=0.810 total time=   0.0s\n",
      "[CV 2/5] END ....C=10, gamma=0.0001, kernel=rbf;, score=0.762 total time=   0.0s\n",
      "[CV 3/5] END ....C=10, gamma=0.0001, kernel=rbf;, score=0.762 total time=   0.0s\n",
      "[CV 4/5] END ....C=10, gamma=0.0001, kernel=rbf;, score=0.762 total time=   0.0s\n",
      "[CV 5/5] END ....C=10, gamma=0.0001, kernel=rbf;, score=0.857 total time=   0.0s\n",
      "[CV 1/5] END ........C=100, gamma=1, kernel=rbf;, score=1.000 total time=   0.0s\n",
      "[CV 2/5] END ........C=100, gamma=1, kernel=rbf;, score=1.000 total time=   0.0s\n",
      "[CV 3/5] END ........C=100, gamma=1, kernel=rbf;, score=0.952 total time=   0.0s\n",
      "[CV 4/5] END ........C=100, gamma=1, kernel=rbf;, score=1.000 total time=   0.0s\n",
      "[CV 5/5] END ........C=100, gamma=1, kernel=rbf;, score=1.000 total time=   0.0s\n",
      "[CV 1/5] END ......C=100, gamma=0.1, kernel=rbf;, score=1.000 total time=   0.0s\n",
      "[CV 2/5] END ......C=100, gamma=0.1, kernel=rbf;, score=0.952 total time=   0.0s\n",
      "[CV 3/5] END ......C=100, gamma=0.1, kernel=rbf;, score=0.952 total time=   0.0s\n",
      "[CV 4/5] END ......C=100, gamma=0.1, kernel=rbf;, score=1.000 total time=   0.0s\n",
      "[CV 5/5] END ......C=100, gamma=0.1, kernel=rbf;, score=1.000 total time=   0.0s\n",
      "[CV 1/5] END .....C=100, gamma=0.01, kernel=rbf;, score=1.000 total time=   0.0s\n",
      "[CV 2/5] END .....C=100, gamma=0.01, kernel=rbf;, score=0.952 total time=   0.0s\n",
      "[CV 3/5] END .....C=100, gamma=0.01, kernel=rbf;, score=0.952 total time=   0.0s\n",
      "[CV 4/5] END .....C=100, gamma=0.01, kernel=rbf;, score=0.905 total time=   0.0s\n",
      "[CV 5/5] END .....C=100, gamma=0.01, kernel=rbf;, score=1.000 total time=   0.0s\n",
      "[CV 1/5] END ....C=100, gamma=0.001, kernel=rbf;, score=1.000 total time=   0.0s\n",
      "[CV 2/5] END ....C=100, gamma=0.001, kernel=rbf;, score=1.000 total time=   0.0s\n",
      "[CV 3/5] END ....C=100, gamma=0.001, kernel=rbf;, score=0.952 total time=   0.0s\n",
      "[CV 4/5] END ....C=100, gamma=0.001, kernel=rbf;, score=1.000 total time=   0.0s\n",
      "[CV 5/5] END ....C=100, gamma=0.001, kernel=rbf;, score=1.000 total time=   0.0s\n",
      "[CV 1/5] END ...C=100, gamma=0.0001, kernel=rbf;, score=0.952 total time=   0.0s\n",
      "[CV 2/5] END ...C=100, gamma=0.0001, kernel=rbf;, score=0.952 total time=   0.0s\n",
      "[CV 3/5] END ...C=100, gamma=0.0001, kernel=rbf;, score=0.952 total time=   0.0s\n",
      "[CV 4/5] END ...C=100, gamma=0.0001, kernel=rbf;, score=1.000 total time=   0.0s\n",
      "[CV 5/5] END ...C=100, gamma=0.0001, kernel=rbf;, score=1.000 total time=   0.0s\n",
      "[CV 1/5] END .......C=1000, gamma=1, kernel=rbf;, score=1.000 total time=   0.0s\n",
      "[CV 2/5] END .......C=1000, gamma=1, kernel=rbf;, score=1.000 total time=   0.0s\n",
      "[CV 3/5] END .......C=1000, gamma=1, kernel=rbf;, score=0.952 total time=   0.0s\n",
      "[CV 4/5] END .......C=1000, gamma=1, kernel=rbf;, score=1.000 total time=   0.0s\n",
      "[CV 5/5] END .......C=1000, gamma=1, kernel=rbf;, score=1.000 total time=   0.0s\n",
      "[CV 1/5] END .....C=1000, gamma=0.1, kernel=rbf;, score=1.000 total time=   0.0s\n",
      "[CV 2/5] END .....C=1000, gamma=0.1, kernel=rbf;, score=0.952 total time=   0.0s\n",
      "[CV 3/5] END .....C=1000, gamma=0.1, kernel=rbf;, score=0.952 total time=   0.0s\n",
      "[CV 4/5] END .....C=1000, gamma=0.1, kernel=rbf;, score=1.000 total time=   0.0s\n",
      "[CV 5/5] END .....C=1000, gamma=0.1, kernel=rbf;, score=1.000 total time=   0.0s\n",
      "[CV 1/5] END ....C=1000, gamma=0.01, kernel=rbf;, score=1.000 total time=   0.0s\n",
      "[CV 2/5] END ....C=1000, gamma=0.01, kernel=rbf;, score=0.952 total time=   0.0s\n",
      "[CV 3/5] END ....C=1000, gamma=0.01, kernel=rbf;, score=0.952 total time=   0.0s\n",
      "[CV 4/5] END ....C=1000, gamma=0.01, kernel=rbf;, score=0.905 total time=   0.0s\n",
      "[CV 5/5] END ....C=1000, gamma=0.01, kernel=rbf;, score=1.000 total time=   0.0s\n",
      "[CV 1/5] END ...C=1000, gamma=0.001, kernel=rbf;, score=1.000 total time=   0.0s\n",
      "[CV 2/5] END ...C=1000, gamma=0.001, kernel=rbf;, score=1.000 total time=   0.0s\n",
      "[CV 3/5] END ...C=1000, gamma=0.001, kernel=rbf;, score=0.952 total time=   0.0s\n",
      "[CV 4/5] END ...C=1000, gamma=0.001, kernel=rbf;, score=1.000 total time=   0.0s\n",
      "[CV 5/5] END ...C=1000, gamma=0.001, kernel=rbf;, score=1.000 total time=   0.0s\n",
      "[CV 1/5] END ..C=1000, gamma=0.0001, kernel=rbf;, score=1.000 total time=   0.0s\n",
      "[CV 2/5] END ..C=1000, gamma=0.0001, kernel=rbf;, score=1.000 total time=   0.0s\n",
      "[CV 3/5] END ..C=1000, gamma=0.0001, kernel=rbf;, score=0.952 total time=   0.0s\n",
      "[CV 4/5] END ..C=1000, gamma=0.0001, kernel=rbf;, score=1.000 total time=   0.0s\n",
      "[CV 5/5] END ..C=1000, gamma=0.0001, kernel=rbf;, score=1.000 total time=   0.0s\n"
     ]
    },
    {
     "data": {
      "text/plain": [
       "GridSearchCV(estimator=SVC(),\n",
       "             param_grid={'C': [0.1, 1, 10, 100, 1000],\n",
       "                         'gamma': [1, 0.1, 0.01, 0.001, 0.0001],\n",
       "                         'kernel': ['rbf']},\n",
       "             verbose=3)"
      ]
     },
     "execution_count": 38,
     "metadata": {},
     "output_type": "execute_result"
    }
   ],
   "source": [
    "## 4.Support Vector Machine\n",
    "from sklearn.svm import SVC \n",
    "from sklearn.model_selection import GridSearchCV \n",
    "\n",
    "# defining parameter range\n",
    "param_grid = {'C': [0.1, 1, 10, 100, 1000], \n",
    "              'gamma': [1, 0.1, 0.01, 0.001, 0.0001],\n",
    "              'kernel': ['rbf']} \n",
    "grid = GridSearchCV(SVC(), param_grid, refit=True, verbose =3) \n",
    "grid.fit(X_train, y_train)"
   ]
  },
  {
   "cell_type": "code",
   "execution_count": 39,
   "id": "0ffb0315",
   "metadata": {},
   "outputs": [
    {
     "data": {
      "text/plain": [
       "SVC(C=1, gamma=1)"
      ]
     },
     "execution_count": 39,
     "metadata": {},
     "output_type": "execute_result"
    }
   ],
   "source": [
    "grid.best_estimator_"
   ]
  },
  {
   "cell_type": "code",
   "execution_count": 42,
   "id": "7d0fc2d8",
   "metadata": {},
   "outputs": [
    {
     "name": "stdout",
     "output_type": "stream",
     "text": [
      "Support VVector Machine  Accuracy Score:-  1.0\n",
      "Support VVector Machine  Precision Score:-  1.0\n",
      "Support VVector Machine  Recall Score:-  1.0\n",
      "Support VVector Machine  Confusion Matrix:- \n",
      " [[39  0]\n",
      " [ 0 14]]\n",
      "Support VVector Machine Classification Report: \n",
      "               precision    recall  f1-score   support\n",
      "\n",
      "         0.0       1.00      1.00      1.00        39\n",
      "         1.0       1.00      1.00      1.00        14\n",
      "\n",
      "    accuracy                           1.00        53\n",
      "   macro avg       1.00      1.00      1.00        53\n",
      "weighted avg       1.00      1.00      1.00        53\n",
      "\n",
      "99.05\n",
      "100.0\n"
     ]
    }
   ],
   "source": [
    "svc=SVC(C=1, gamma=1)\n",
    "svc.fit(X_train,y_train)\n",
    "y_predSVC=svc.predict(X_test)\n",
    "evaluating_model(\"Support VVector Machine\",y_test,y_predSVC)\n",
    "SVC_TRAIN_SCORE = round(svc.score(X_train, y_train) * 100, 2)\n",
    "SVC_TEST_SCORE = round(svc.score(X_test, y_test) * 100, 2)\n",
    "print(SVC_TRAIN_SCORE)\n",
    "print(SVC_TEST_SCORE)"
   ]
  },
  {
   "cell_type": "code",
   "execution_count": 43,
   "id": "4d8fe65a",
   "metadata": {},
   "outputs": [
    {
     "name": "stdout",
     "output_type": "stream",
     "text": [
      "Training score: 0.990\n",
      "Test score: 0.981\n"
     ]
    },
    {
     "data": {
      "text/plain": [
       "DecisionTreeClassifier(max_depth=6, max_features='auto', max_leaf_nodes=45,\n",
       "                       min_impurity_decrease=0.1, min_samples_split=3,\n",
       "                       min_weight_fraction_leaf=0.01, random_state=2,\n",
       "                       splitter='random')"
      ]
     },
     "execution_count": 43,
     "metadata": {},
     "output_type": "execute_result"
    }
   ],
   "source": [
    "## 5.Decision Tree\n",
    "from sklearn.tree import DecisionTreeClassifier\n",
    "from sklearn.model_selection import RandomizedSearchCV \n",
    "\n",
    "def randomized_search(params, runs=20, clf=DecisionTreeClassifier(random_state=2)): \n",
    "    rand_clf = RandomizedSearchCV(clf, params, n_iter=runs, cv=5, n_jobs=-1, random_state=2) \n",
    "    rand_clf.fit(X_train, y_train) \n",
    "    best_model = rand_clf.best_estimator_\n",
    "    best_score = rand_clf.best_score_\n",
    "\n",
    "    print(\"Training score: {:.3f}\".format(best_score))\n",
    "    y_pred = best_model.predict(X_test)\n",
    "    accuracy = accuracy_score(y_test, y_pred)\n",
    "    print('Test score: {:.3f}'.format(accuracy))\n",
    "    \n",
    "    return best_model\n",
    "\n",
    "randomized_search(params={'criterion':['entropy', 'gini'],\n",
    "                              'splitter':['random', 'best'],\n",
    "                          'min_weight_fraction_leaf':[0.0, 0.0025, 0.005, 0.0075, 0.01],\n",
    "                          'min_samples_split':[2, 3, 4, 5, 6, 8, 10],\n",
    "                          'min_samples_leaf':[1, 0.01, 0.02, 0.03, 0.04],\n",
    "                          'min_impurity_decrease':[0.0, 0.0005, 0.005, 0.05, 0.10, 0.15, 0.2],\n",
    "                          'max_leaf_nodes':[10, 15, 20, 25, 30, 35, 40, 45, 50, None],\n",
    "                          'max_features':['auto', 0.95, 0.90, 0.85, 0.80, 0.75, 0.70],\n",
    "                          'max_depth':[None, 2,4,6,8],\n",
    "                          'min_weight_fraction_leaf':[0.0, 0.0025, 0.005, 0.0075, 0.01, 0.05]\n",
    "                         })"
   ]
  },
  {
   "cell_type": "code",
   "execution_count": 44,
   "id": "992b3039",
   "metadata": {},
   "outputs": [
    {
     "name": "stdout",
     "output_type": "stream",
     "text": [
      "DecisionTreeClassifier  Accuracy Score:-  0.9811320754716981\n",
      "DecisionTreeClassifier  Precision Score:-  1.0\n",
      "DecisionTreeClassifier  Recall Score:-  0.9285714285714286\n",
      "DecisionTreeClassifier  Confusion Matrix:- \n",
      " [[39  0]\n",
      " [ 1 13]]\n",
      "DecisionTreeClassifier Classification Report: \n",
      "               precision    recall  f1-score   support\n",
      "\n",
      "         0.0       0.97      1.00      0.99        39\n",
      "         1.0       1.00      0.93      0.96        14\n",
      "\n",
      "    accuracy                           0.98        53\n",
      "   macro avg       0.99      0.96      0.98        53\n",
      "weighted avg       0.98      0.98      0.98        53\n",
      "\n",
      "99.05\n",
      "98.11\n"
     ]
    }
   ],
   "source": [
    "DTC=DecisionTreeClassifier(max_depth=6, max_features='auto', max_leaf_nodes=45,\n",
    "                       min_impurity_decrease=0.1, min_samples_split=3,\n",
    "                       min_weight_fraction_leaf=0.01, random_state=2,\n",
    "                       splitter='random')\n",
    "DTC.fit(X_train,y_train)\n",
    "y_predDTC=DTC.predict(X_test)\n",
    "evaluating_model(\"DecisionTreeClassifier\",y_test,y_predDTC)\n",
    "DTC_TRAIN_SCORE = round(DTC.score(X_train, y_train) * 100, 2)\n",
    "DTC_TEST_SCORE = round(DTC.score(X_test, y_test) * 100, 2)\n",
    "print(DTC_TRAIN_SCORE)\n",
    "print(DTC_TEST_SCORE)"
   ]
  },
  {
   "cell_type": "code",
   "execution_count": 45,
   "id": "ffd8f107",
   "metadata": {},
   "outputs": [
    {
     "name": "stdout",
     "output_type": "stream",
     "text": [
      "[0]\tvalidation_0-logloss:0.60606\n",
      "[1]\tvalidation_0-logloss:0.53367\n",
      "[2]\tvalidation_0-logloss:0.47261\n",
      "[3]\tvalidation_0-logloss:0.42052\n",
      "[4]\tvalidation_0-logloss:0.37570\n",
      "[5]\tvalidation_0-logloss:0.33683\n",
      "[6]\tvalidation_0-logloss:0.30293\n",
      "[7]\tvalidation_0-logloss:0.27321\n",
      "[8]\tvalidation_0-logloss:0.24704\n",
      "[9]\tvalidation_0-logloss:0.22392\n",
      "[10]\tvalidation_0-logloss:0.20343\n",
      "[11]\tvalidation_0-logloss:0.18521\n",
      "[12]\tvalidation_0-logloss:0.16897\n",
      "[13]\tvalidation_0-logloss:0.15564\n",
      "[14]\tvalidation_0-logloss:0.14252\n",
      "[15]\tvalidation_0-logloss:0.13188\n",
      "[16]\tvalidation_0-logloss:0.12120\n",
      "[17]\tvalidation_0-logloss:0.11266\n",
      "[18]\tvalidation_0-logloss:0.10390\n",
      "[19]\tvalidation_0-logloss:0.09701\n",
      "[20]\tvalidation_0-logloss:0.08978\n",
      "[21]\tvalidation_0-logloss:0.08420\n",
      "[22]\tvalidation_0-logloss:0.07926\n",
      "[23]\tvalidation_0-logloss:0.07370\n",
      "[24]\tvalidation_0-logloss:0.06968\n",
      "[25]\tvalidation_0-logloss:0.06501\n",
      "[26]\tvalidation_0-logloss:0.06172\n",
      "[27]\tvalidation_0-logloss:0.05777\n",
      "[28]\tvalidation_0-logloss:0.05507\n",
      "[29]\tvalidation_0-logloss:0.05171\n",
      "[30]\tvalidation_0-logloss:0.04949\n",
      "[31]\tvalidation_0-logloss:0.04661\n",
      "[32]\tvalidation_0-logloss:0.04399\n",
      "[33]\tvalidation_0-logloss:0.04159\n",
      "[34]\tvalidation_0-logloss:0.03940\n",
      "[35]\tvalidation_0-logloss:0.03739\n",
      "[36]\tvalidation_0-logloss:0.03581\n",
      "[37]\tvalidation_0-logloss:0.03435\n",
      "[38]\tvalidation_0-logloss:0.03301\n",
      "[39]\tvalidation_0-logloss:0.03176\n",
      "[40]\tvalidation_0-logloss:0.03155\n",
      "[41]\tvalidation_0-logloss:0.03137\n",
      "[42]\tvalidation_0-logloss:0.03121\n",
      "[43]\tvalidation_0-logloss:0.03107\n",
      "[44]\tvalidation_0-logloss:0.03095\n",
      "[45]\tvalidation_0-logloss:0.03084\n",
      "[46]\tvalidation_0-logloss:0.03075\n",
      "[47]\tvalidation_0-logloss:0.03067\n",
      "[48]\tvalidation_0-logloss:0.03060\n",
      "[49]\tvalidation_0-logloss:0.03052\n",
      "[50]\tvalidation_0-logloss:0.03045\n",
      "[51]\tvalidation_0-logloss:0.03040\n",
      "[52]\tvalidation_0-logloss:0.03033\n",
      "[53]\tvalidation_0-logloss:0.03026\n",
      "[54]\tvalidation_0-logloss:0.03020\n",
      "[55]\tvalidation_0-logloss:0.03015\n",
      "[56]\tvalidation_0-logloss:0.03009\n",
      "[57]\tvalidation_0-logloss:0.03004\n",
      "[58]\tvalidation_0-logloss:0.03000\n",
      "[59]\tvalidation_0-logloss:0.02996\n",
      "[60]\tvalidation_0-logloss:0.02992\n",
      "[61]\tvalidation_0-logloss:0.02988\n",
      "[62]\tvalidation_0-logloss:0.02863\n",
      "[63]\tvalidation_0-logloss:0.02860\n",
      "[64]\tvalidation_0-logloss:0.02857\n",
      "[65]\tvalidation_0-logloss:0.02854\n",
      "[66]\tvalidation_0-logloss:0.02852\n",
      "[67]\tvalidation_0-logloss:0.02849\n",
      "[68]\tvalidation_0-logloss:0.02847\n",
      "[69]\tvalidation_0-logloss:0.02845\n",
      "[70]\tvalidation_0-logloss:0.02843\n",
      "[71]\tvalidation_0-logloss:0.02842\n",
      "[72]\tvalidation_0-logloss:0.02840\n",
      "[73]\tvalidation_0-logloss:0.02838\n",
      "[74]\tvalidation_0-logloss:0.02837\n",
      "[75]\tvalidation_0-logloss:0.02836\n",
      "[76]\tvalidation_0-logloss:0.02834\n",
      "[77]\tvalidation_0-logloss:0.02833\n",
      "[78]\tvalidation_0-logloss:0.02832\n",
      "[79]\tvalidation_0-logloss:0.02831\n",
      "[80]\tvalidation_0-logloss:0.02830\n",
      "[81]\tvalidation_0-logloss:0.02829\n",
      "[82]\tvalidation_0-logloss:0.02828\n",
      "[83]\tvalidation_0-logloss:0.02828\n",
      "[84]\tvalidation_0-logloss:0.02827\n",
      "[85]\tvalidation_0-logloss:0.02826\n",
      "[86]\tvalidation_0-logloss:0.02825\n",
      "[87]\tvalidation_0-logloss:0.02825\n",
      "[88]\tvalidation_0-logloss:0.02824\n",
      "[89]\tvalidation_0-logloss:0.02824\n",
      "[90]\tvalidation_0-logloss:0.02823\n",
      "[91]\tvalidation_0-logloss:0.02823\n",
      "[92]\tvalidation_0-logloss:0.02822\n",
      "[93]\tvalidation_0-logloss:0.02822\n",
      "[94]\tvalidation_0-logloss:0.02822\n",
      "[95]\tvalidation_0-logloss:0.02821\n",
      "[96]\tvalidation_0-logloss:0.02821\n",
      "[97]\tvalidation_0-logloss:0.02821\n",
      "[98]\tvalidation_0-logloss:0.02820\n",
      "[99]\tvalidation_0-logloss:0.02820\n",
      "[100]\tvalidation_0-logloss:0.02820\n",
      "[101]\tvalidation_0-logloss:0.02819\n",
      "[102]\tvalidation_0-logloss:0.02819\n",
      "[103]\tvalidation_0-logloss:0.02819\n",
      "[104]\tvalidation_0-logloss:0.02819\n",
      "[105]\tvalidation_0-logloss:0.02819\n",
      "[106]\tvalidation_0-logloss:0.02818\n",
      "[107]\tvalidation_0-logloss:0.02818\n",
      "[108]\tvalidation_0-logloss:0.02818\n",
      "[109]\tvalidation_0-logloss:0.02818\n",
      "[110]\tvalidation_0-logloss:0.02818\n",
      "[111]\tvalidation_0-logloss:0.02817\n",
      "[112]\tvalidation_0-logloss:0.02817\n",
      "[113]\tvalidation_0-logloss:0.02817\n",
      "[114]\tvalidation_0-logloss:0.02817\n",
      "[115]\tvalidation_0-logloss:0.02817\n",
      "[116]\tvalidation_0-logloss:0.02817\n",
      "[117]\tvalidation_0-logloss:0.02817\n",
      "[118]\tvalidation_0-logloss:0.02817\n",
      "[119]\tvalidation_0-logloss:0.02817\n",
      "[120]\tvalidation_0-logloss:0.02817\n",
      "[121]\tvalidation_0-logloss:0.02817\n",
      "[122]\tvalidation_0-logloss:0.02703\n",
      "[123]\tvalidation_0-logloss:0.02703\n",
      "[124]\tvalidation_0-logloss:0.02703\n",
      "[125]\tvalidation_0-logloss:0.02703\n",
      "[126]\tvalidation_0-logloss:0.02703\n",
      "[127]\tvalidation_0-logloss:0.02703\n",
      "[128]\tvalidation_0-logloss:0.02704\n",
      "[129]\tvalidation_0-logloss:0.02704\n",
      "[130]\tvalidation_0-logloss:0.02704\n",
      "[131]\tvalidation_0-logloss:0.02704\n",
      "[132]\tvalidation_0-logloss:0.02704\n"
     ]
    },
    {
     "data": {
      "text/plain": [
       "XGBClassifier(base_score=0.5, booster='gbtree', colsample_bylevel=1,\n",
       "              colsample_bynode=1, colsample_bytree=1.0,\n",
       "              enable_categorical=False, gamma=0, gpu_id=-1,\n",
       "              importance_type=None, interaction_constraints='',\n",
       "              learning_rate=0.1, max_delta_step=0, max_depth=4,\n",
       "              min_child_weight=1, missing=nan, monotone_constraints='()',\n",
       "              n_estimators=400, n_jobs=4, num_parallel_tree=1, predictor='auto',\n",
       "              random_state=0, reg_alpha=0, reg_lambda=1, scale_pos_weight=1,\n",
       "              subsample=1.0, tree_method='exact', validate_parameters=1,\n",
       "              verbosity=None)"
      ]
     },
     "execution_count": 45,
     "metadata": {},
     "output_type": "execute_result"
    }
   ],
   "source": [
    "###XGboostt\n",
    "from xgboost import XGBClassifier\n",
    "xgb1 = XGBClassifier(colsample_bytree= 1.0,\n",
    " learning_rate = 0.1,\n",
    " max_depth = 4,\n",
    " n_estimators= 400,\n",
    " subsample= 1.0)  \n",
    "\n",
    "eval_set  = [(X_test, y_test)]\n",
    "\n",
    "xgb1.fit(X_train, y_train,early_stopping_rounds=10, eval_metric=\"logloss\",eval_set=eval_set, verbose=True)"
   ]
  },
  {
   "cell_type": "code",
   "execution_count": 46,
   "id": "5904c080",
   "metadata": {},
   "outputs": [
    {
     "name": "stdout",
     "output_type": "stream",
     "text": [
      "XGBOOST  Accuracy Score:-  1.0\n",
      "XGBOOST  Precision Score:-  1.0\n",
      "XGBOOST  Recall Score:-  1.0\n",
      "XGBOOST  Confusion Matrix:- \n",
      " [[39  0]\n",
      " [ 0 14]]\n",
      "XGBOOST Classification Report: \n",
      "               precision    recall  f1-score   support\n",
      "\n",
      "         0.0       1.00      1.00      1.00        39\n",
      "         1.0       1.00      1.00      1.00        14\n",
      "\n",
      "    accuracy                           1.00        53\n",
      "   macro avg       1.00      1.00      1.00        53\n",
      "weighted avg       1.00      1.00      1.00        53\n",
      "\n",
      "99.05\n",
      "100.0\n"
     ]
    }
   ],
   "source": [
    "y_predXGB1=xgb1.predict(X_test)\n",
    "evaluating_model(\"XGBOOST\",y_test,y_predXGB1)\n",
    "XGB1_TRAIN_SCORE = round(xgb1.score(X_train, y_train) * 100, 2)\n",
    "XGB1_TEST_SCORE = round(xgb1.score(X_test, y_test) * 100, 2)\n",
    "print(XGB1_TRAIN_SCORE)\n",
    "print(XGB1_TEST_SCORE)"
   ]
  },
  {
   "cell_type": "code",
   "execution_count": 47,
   "id": "458f0048",
   "metadata": {},
   "outputs": [
    {
     "data": {
      "image/png": "[encoded data removed]",
      "text/plain": [
       "<Figure size 432x288 with 1 Axes>"
      ]
     },
     "metadata": {
      "needs_background": "light"
     },
     "output_type": "display_data"
    }
   ],
   "source": [
    "from xgboost import plot_importance\n",
    "plot_importance(xgb1)\n",
    "plt.show()"
   ]
  },
  {
   "cell_type": "code",
   "execution_count": 50,
   "id": "d258e6df",
   "metadata": {},
   "outputs": [
    {
     "name": "stdout",
     "output_type": "stream",
     "text": [
      "GradientBoostingClassifier  Accuracy Score:-  1.0\n",
      "GradientBoostingClassifier  Precision Score:-  1.0\n",
      "GradientBoostingClassifier  Recall Score:-  1.0\n",
      "GradientBoostingClassifier  Confusion Matrix:- \n",
      " [[39  0]\n",
      " [ 0 14]]\n",
      "GradientBoostingClassifier Classification Report: \n",
      "               precision    recall  f1-score   support\n",
      "\n",
      "         0.0       1.00      1.00      1.00        39\n",
      "         1.0       1.00      1.00      1.00        14\n",
      "\n",
      "    accuracy                           1.00        53\n",
      "   macro avg       1.00      1.00      1.00        53\n",
      "weighted avg       1.00      1.00      1.00        53\n",
      "\n",
      "100.0\n",
      "100.0\n"
     ]
    }
   ],
   "source": [
    "####GBDT\n",
    "from sklearn.ensemble import GradientBoostingClassifier\n",
    "\n",
    "GBDT = GradientBoostingClassifier(n_estimators=200, learning_rate=0.1,max_depth=1,random_state=0) \n",
    "GBDT.fit(X_train, y_train) \n",
    "\n",
    "y_predGBDT = GBDT.predict(X_test) \n",
    "evaluating_model(\"GradientBoostingClassifier\",y_test, y_predGBDT)\n",
    "GBDT_TRAIN_SCORE = round(GBDT.score(X_train, y_train) * 100, 2)\n",
    "GBDT_TEST_SCORE = round(GBDT.score(X_test, y_test) * 100, 2)\n",
    "print(GBDT_TRAIN_SCORE)\n",
    "print(GBDT_TEST_SCORE)"
   ]
  },
  {
   "cell_type": "code",
   "execution_count": 51,
   "id": "8308542c",
   "metadata": {},
   "outputs": [
    {
     "data": {
      "text/html": [
       "<div>\n",
       "<style scoped>\n",
       "    .dataframe tbody tr th:only-of-type {\n",
       "        vertical-align: middle;\n",
       "    }\n",
       "\n",
       "    .dataframe tbody tr th {\n",
       "        vertical-align: top;\n",
       "    }\n",
       "\n",
       "    .dataframe thead th {\n",
       "        text-align: right;\n",
       "    }\n",
       "</style>\n",
       "<table border=\"1\" class=\"dataframe\">\n",
       "  <thead>\n",
       "    <tr style=\"text-align: right;\">\n",
       "      <th></th>\n",
       "      <th>Model</th>\n",
       "      <th>Score</th>\n",
       "      <th>Test Score</th>\n",
       "    </tr>\n",
       "  </thead>\n",
       "  <tbody>\n",
       "    <tr>\n",
       "      <th>1</th>\n",
       "      <td>Gaussian Naive Bayes</td>\n",
       "      <td>99.05</td>\n",
       "      <td>100.00</td>\n",
       "    </tr>\n",
       "    <tr>\n",
       "      <th>2</th>\n",
       "      <td>Random Forest</td>\n",
       "      <td>100.00</td>\n",
       "      <td>100.00</td>\n",
       "    </tr>\n",
       "    <tr>\n",
       "      <th>3</th>\n",
       "      <td>Support Vector Machine</td>\n",
       "      <td>99.05</td>\n",
       "      <td>100.00</td>\n",
       "    </tr>\n",
       "    <tr>\n",
       "      <th>5</th>\n",
       "      <td>XGBOOST</td>\n",
       "      <td>99.05</td>\n",
       "      <td>100.00</td>\n",
       "    </tr>\n",
       "    <tr>\n",
       "      <th>6</th>\n",
       "      <td>GradientBoostingClassifier</td>\n",
       "      <td>100.00</td>\n",
       "      <td>100.00</td>\n",
       "    </tr>\n",
       "    <tr>\n",
       "      <th>0</th>\n",
       "      <td>Logistic Regrestion</td>\n",
       "      <td>98.10</td>\n",
       "      <td>98.11</td>\n",
       "    </tr>\n",
       "    <tr>\n",
       "      <th>4</th>\n",
       "      <td>DecisionTreeClassifier</td>\n",
       "      <td>99.05</td>\n",
       "      <td>98.11</td>\n",
       "    </tr>\n",
       "  </tbody>\n",
       "</table>\n",
       "</div>"
      ],
      "text/plain": [
       "                        Model   Score  Test Score\n",
       "1        Gaussian Naive Bayes   99.05      100.00\n",
       "2               Random Forest  100.00      100.00\n",
       "3      Support Vector Machine   99.05      100.00\n",
       "5                     XGBOOST   99.05      100.00\n",
       "6  GradientBoostingClassifier  100.00      100.00\n",
       "0         Logistic Regrestion   98.10       98.11\n",
       "4      DecisionTreeClassifier   99.05       98.11"
      ]
     },
     "execution_count": 51,
     "metadata": {},
     "output_type": "execute_result"
    }
   ],
   "source": [
    "# Comparing all the models\n",
    "models = pd.DataFrame({\n",
    "    'Model': [ \"Logistic Regrestion\", 'Gaussian Naive Bayes','Random Forest',\"Support Vector Machine\",\"DecisionTreeClassifier\",\"XGBOOST\",\"GradientBoostingClassifier\"],\n",
    "    'Score': [ LR_TRAIN_SCORE, GNB_TRAIN_SCORE, RFC_TRAIN_SCORE,SVC_TRAIN_SCORE,DTC_TRAIN_SCORE,XGB1_TRAIN_SCORE,GBDT_TRAIN_SCORE],\n",
    "    'Test Score': [ LR_TEST_SCORE, GNB_TEST_SCORE, RFC_TEST_SCORE,SVC_TEST_SCORE,DTC_TEST_SCORE,XGB1_TEST_SCORE,GBDT_TEST_SCORE]})\n",
    "models.sort_values(by='Test Score', ascending=False)"
   ]
  },
  {
   "cell_type": "markdown",
   "id": "482f1c84",
   "metadata": {},
   "source": [
    "## Conclusion\n"
   ]
  },
  {
   "cell_type": "markdown",
   "id": "371add45",
   "metadata": {},
   "source": [
    "### From the Models (Logistic Regression, Gaussian Naive Bayes, Random Forest,GBDT,Decisio Tree,XGboost,SVM)  Random Forest performs the best on this dataset"
   ]
  },
  {
   "cell_type": "code",
   "execution_count": 52,
   "id": "21de777e",
   "metadata": {},
   "outputs": [],
   "source": [
    "import joblib \n",
    "joblib.dump(RFC, 'HeartRFC.pkl') \n",
    "model = joblib.load('HeartRFC.pkl' ) "
   ]
  },
  {
   "cell_type": "code",
   "execution_count": 90,
   "id": "5d536ffd",
   "metadata": {},
   "outputs": [
    {
     "data": {
      "text/plain": [
       "array([1., 0.])"
      ]
     },
     "execution_count": 90,
     "metadata": {},
     "output_type": "execute_result"
    }
   ],
   "source": [
    "model.predict([[90.0,1.010,4.0,0.0,0.0,1.0,1.0],\n",
    "              [60,1.02,0,0,0,0,0]])"
   ]
  },
  {
   "cell_type": "code",
   "execution_count": null,
   "id": "8eafd093",
   "metadata": {},
   "outputs": [],
   "source": []
  },
  {
   "cell_type": "code",
   "execution_count": null,
   "id": "70da07c0",
   "metadata": {},
   "outputs": [],
   "source": []
  },
  {
   "cell_type": "code",
   "execution_count": null,
   "id": "9a62e516",
   "metadata": {},
   "outputs": [],
   "source": []
  }
 ],
 "metadata": {
  "kernelspec": {
   "display_name": "Python 3 (ipykernel)",
   "language": "python",
   "name": "python3"
  },
  "language_info": {
   "codemirror_mode": {
    "name": "ipython",
    "version": 3
   },
   "file_extension": ".py",
   "mimetype": "text/x-python",
   "name": "python",
   "nbconvert_exporter": "python",
   "pygments_lexer": "ipython3",
   "version": "3.9.6"
  }
 },
 "nbformat": 4,
 "nbformat_minor": 5
}
